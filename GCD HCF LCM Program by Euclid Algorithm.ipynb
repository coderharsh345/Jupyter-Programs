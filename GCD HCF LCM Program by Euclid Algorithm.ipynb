{
 "cells": [
  {
   "cell_type": "code",
   "execution_count": null,
   "metadata": {},
   "outputs": [],
   "source": [
    "#T(n)=O(logn)\n",
    "#Product=HCf*LCM\n",
    "#LCM=product//Hcf\n",
    "#hcf first element is 0 then second element is hcf\n",
    "#hcf first element is not zero then b%a\n",
    "def gcd(a,b):\n",
    "    if a==0:\n",
    "        return b\n",
    "    return gcd(b%a,a)\n",
    "def lcm(a,b):\n",
    "    p=a*b\n",
    "    hcf=gcd(a,b)\n",
    "    return p//hcf\n",
    "t=int(input(\"enter the number how many times run the program\"))\n",
    "while t:\n",
    "    n,m=map(int,input('Enter the number in commas: ').split(','))\n",
    "    print(\"GCD={}, LCM={}\".format(gcd(n,m),lcm(n,m)))\n",
    "    "
   ]
  }
 ],
 "metadata": {
  "kernelspec": {
   "display_name": "Python 3",
   "language": "python",
   "name": "python3"
  },
  "language_info": {
   "codemirror_mode": {
    "name": "ipython",
    "version": 3
   },
   "file_extension": ".py",
   "mimetype": "text/x-python",
   "name": "python",
   "nbconvert_exporter": "python",
   "pygments_lexer": "ipython3",
   "version": "3.8.5"
  }
 },
 "nbformat": 4,
 "nbformat_minor": 4
}
