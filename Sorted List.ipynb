{
 "cells": [
  {
   "cell_type": "code",
   "execution_count": 2,
   "metadata": {},
   "outputs": [
    {
     "name": "stdout",
     "output_type": "stream",
     "text": [
      "Enter Elements in commas2,5,8,1,4,6\n",
      "[2, 5, 8, 1, 4, 6]\n",
      "[1, 2, 4, 5, 6, 8]\n"
     ]
    }
   ],
   "source": [
    "l=[int(i) for i in input(\"Enter Elements in commas\").split(',')]\n",
    "print(l)\n",
    "n=sorted(l)\n",
    "print(n)"
   ]
  },
  {
   "cell_type": "code",
   "execution_count": 3,
   "metadata": {},
   "outputs": [
    {
     "name": "stdout",
     "output_type": "stream",
     "text": [
      "Enter Elements in commas5,6,4,4,5,87,5,6\n",
      "[5, 6, 4, 4, 5, 87, 5, 6]\n",
      "[1, 2, 4, 5, 6, 8]\n"
     ]
    }
   ],
   "source": [
    "l=[int(i) for i in input(\"Enter Elements in commas\").split(',')]\n",
    "print(l)\n",
    "l.sort\n",
    "print(n)"
   ]
  },
  {
   "cell_type": "code",
   "execution_count": null,
   "metadata": {},
   "outputs": [],
   "source": [
    "l=[int(i) for i in input(\"Enter Elements in commas\").split(',')]\n",
    "print(l)\n",
    "l=sorted(l)\n",
    "print(n)"
   ]
  },
  {
   "cell_type": "code",
   "execution_count": null,
   "metadata": {},
   "outputs": [],
   "source": []
  }
 ],
 "metadata": {
  "kernelspec": {
   "display_name": "Python 3",
   "language": "python",
   "name": "python3"
  },
  "language_info": {
   "codemirror_mode": {
    "name": "ipython",
    "version": 3
   },
   "file_extension": ".py",
   "mimetype": "text/x-python",
   "name": "python",
   "nbconvert_exporter": "python",
   "pygments_lexer": "ipython3",
   "version": "3.8.5"
  }
 },
 "nbformat": 4,
 "nbformat_minor": 4
}
