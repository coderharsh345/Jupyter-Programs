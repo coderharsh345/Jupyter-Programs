{
 "cells": [
  {
   "cell_type": "code",
   "execution_count": 1,
   "metadata": {},
   "outputs": [
    {
     "name": "stdout",
     "output_type": "stream",
     "text": [
      "Harsh\n",
      "Avi\n",
      "Rishi\n",
      "Avi Harsh Rishi\n"
     ]
    }
   ],
   "source": [
    "a,b,c=input(),input(),input()\n",
    "if a<b<c:\n",
    "    print(a,b,c)\n",
    "elif a<c<b:\n",
    "    print(a,c,b)\n",
    "elif b<a<c:\n",
    "    print(b,a,c)\n",
    "elif b<c<a:\n",
    "    print(b,c,a)\n",
    "elif(c<a<b):\n",
    "    print(c,a,b)\n",
    "else:\n",
    "    print(c,b,a)"
   ]
  },
  {
   "cell_type": "code",
   "execution_count": 2,
   "metadata": {},
   "outputs": [
    {
     "name": "stdout",
     "output_type": "stream",
     "text": [
      "Harsh \n",
      "Gupta\n",
      "Harsh chutiya hai\n",
      "Gupta\n",
      "Harsh  Harsh chutiya hai\n"
     ]
    }
   ],
   "source": [
    "a,b,c=input(),input(),input()\n",
    "x=min(a,b,c)\n",
    "print(x)\n",
    "if x==a:\n",
    "    print(min(b,c),max(b,c))\n",
    "elif x==b:\n",
    "    print(min(a,c),max(a,c))\n",
    "elif x==c:\n",
    "    print(min(a,b),max(a,b))"
   ]
  },
  {
   "cell_type": "code",
   "execution_count": 5,
   "metadata": {},
   "outputs": [
    {
     "ename": "SyntaxError",
     "evalue": "invalid syntax (<ipython-input-5-80428b3631d4>, line 1)",
     "output_type": "error",
     "traceback": [
      "\u001b[1;36m  File \u001b[1;32m\"<ipython-input-5-80428b3631d4>\"\u001b[1;36m, line \u001b[1;32m1\u001b[0m\n\u001b[1;33m    n=[x for x in sorted(input(\"Enter the string Sepreated by Commas: \").split(',')) if print(x,,end=' ')]\u001b[0m\n\u001b[1;37m                                                                                                ^\u001b[0m\n\u001b[1;31mSyntaxError\u001b[0m\u001b[1;31m:\u001b[0m invalid syntax\n"
     ]
    }
   ],
   "source": [
    "n=[x for x in sorted(input(\"Enter the string Sepreated by Commas: \").split(',')) if print(x,,end=' ')]"
   ]
  },
  {
   "cell_type": "code",
   "execution_count": null,
   "metadata": {},
   "outputs": [],
   "source": []
  }
 ],
 "metadata": {
  "kernelspec": {
   "display_name": "Python 3",
   "language": "python",
   "name": "python3"
  },
  "language_info": {
   "codemirror_mode": {
    "name": "ipython",
    "version": 3
   },
   "file_extension": ".py",
   "mimetype": "text/x-python",
   "name": "python",
   "nbconvert_exporter": "python",
   "pygments_lexer": "ipython3",
   "version": "3.8.5"
  }
 },
 "nbformat": 4,
 "nbformat_minor": 4
}
