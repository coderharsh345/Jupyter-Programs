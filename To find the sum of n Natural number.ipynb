{
 "cells": [
  {
   "cell_type": "code",
   "execution_count": null,
   "metadata": {},
   "outputs": [],
   "source": [
    "def sum_nikal(n):\n",
    "    return n*(n+1)//2\n",
    "def sum_chaiye(n):\n",
    "    s=0\n",
    "    for i in range(1,n+1):\n",
    "        s=s+i\n",
    "    return s\n",
    "t=int(input('Enter the number how many times you want run the program: '))\n",
    "while t:\n",
    "    n=int(input('Enter your number: '))\n",
    "    print(\"Sum nikal wala: \",sum_nikal(n))\n",
    "    print(\"Sum Chaiye wala: \",sum_chaiye(n))\n",
    "    t-=1"
   ]
  },
  {
   "cell_type": "code",
   "execution_count": null,
   "metadata": {},
   "outputs": [],
   "source": []
  }
 ],
 "metadata": {
  "kernelspec": {
   "display_name": "Python 3",
   "language": "python",
   "name": "python3"
  },
  "language_info": {
   "codemirror_mode": {
    "name": "ipython",
    "version": 3
   },
   "file_extension": ".py",
   "mimetype": "text/x-python",
   "name": "python",
   "nbconvert_exporter": "python",
   "pygments_lexer": "ipython3",
   "version": "3.8.5"
  }
 },
 "nbformat": 4,
 "nbformat_minor": 4
}
