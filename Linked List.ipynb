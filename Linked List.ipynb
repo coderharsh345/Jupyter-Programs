{
 "cells": [
  {
   "cell_type": "code",
   "execution_count": 3,
   "metadata": {},
   "outputs": [
    {
     "ename": "SyntaxError",
     "evalue": "invalid syntax (<ipython-input-3-fc3ce14201f4>, line 10)",
     "output_type": "error",
     "traceback": [
      "\u001b[1;36m  File \u001b[1;32m\"<ipython-input-3-fc3ce14201f4>\"\u001b[1;36m, line \u001b[1;32m10\u001b[0m\n\u001b[1;33m    if (self.start=None):\u001b[0m\n\u001b[1;37m                  ^\u001b[0m\n\u001b[1;31mSyntaxError\u001b[0m\u001b[1;31m:\u001b[0m invalid syntax\n"
     ]
    }
   ],
   "source": [
    "class node:\n",
    "    def __init__(self,data):\n",
    "        self.data=data\n",
    "        self.next=None;\n",
    "class linkedlist:\n",
    "    def __init__(self,data):\n",
    "        self.start=None;\n",
    "    def insertlast(self,value):\n",
    "        NewNode=node(value)\n",
    "        if (self.start=None):\n",
    "            self.start=NewNode\n",
    "        else:\n",
    "            temp=self.start\n",
    "            while (temp.next!=None):\n",
    "                temp=temp.next\n",
    "            temp.next=NewNode\n",
    "    def deletefirst(self):\n",
    "        if(self.start==None):\n",
    "            print(\"List is Blank\")\n",
    "        else:\n",
    "            self.start=self.start.next\n",
    "    def view(self):\n",
    "        if(self.start==None):\n",
    "            print('List is Blank')\n",
    "        else:\n",
    "            temp=self.start\n",
    "            while(temp!=None):\n",
    "                print(temp.data,end=' ')\n",
    "                temp=temp.next\n",
    "obj=linkedlist()\n",
    "obj.insertlast(10)\n",
    "obj.insertlast(20)\n",
    "obj.insertlast(30)\n",
    "obj.insertlast(40)\n",
    "obj.view()\n",
    "obj.deletefirst()\n",
    "print()\n",
    "obj.view()"
   ]
  },
  {
   "cell_type": "code",
   "execution_count": null,
   "metadata": {},
   "outputs": [],
   "source": []
  }
 ],
 "metadata": {
  "kernelspec": {
   "display_name": "Python 3",
   "language": "python",
   "name": "python3"
  },
  "language_info": {
   "codemirror_mode": {
    "name": "ipython",
    "version": 3
   },
   "file_extension": ".py",
   "mimetype": "text/x-python",
   "name": "python",
   "nbconvert_exporter": "python",
   "pygments_lexer": "ipython3",
   "version": "3.8.5"
  }
 },
 "nbformat": 4,
 "nbformat_minor": 4
}
