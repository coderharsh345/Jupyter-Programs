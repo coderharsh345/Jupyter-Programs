{
 "cells": [
  {
   "cell_type": "code",
   "execution_count": 5,
   "metadata": {},
   "outputs": [
    {
     "name": "stdout",
     "output_type": "stream",
     "text": [
      "How many times you want to run the program: 2\n",
      "Enter the number: 24\n",
      "1\n",
      "24 1\n",
      "Enter the number: 56\n",
      "1\n",
      "56 1\n"
     ]
    }
   ],
   "source": [
    "from math import *\n",
    "def fun1(n):\n",
    "    d1=[]\n",
    "    for i in range(1,n+1):\n",
    "        if n%i==0:\n",
    "            d1.append(i)\n",
    "        return d1\n",
    "def fun2(n):\n",
    "    d2=set()\n",
    "    for i in range(1,int(sqrt(n)+1)):\n",
    "        if n%i == 0:\n",
    "            d2.add(i)\n",
    "            d2.add(n//i)\n",
    "        return list(d2)\n",
    "t=int(input(\"How many times you want to run the program: \"))\n",
    "while t:\n",
    "    n=int(input(\"Enter the number: \"))\n",
    "    d1=fun1(n)\n",
    "    #for i in range(0,len(a)):\n",
    "        #print(a[i],end=\" \")\n",
    "    print(*d1)\n",
    "    d2=fun2(n)\n",
    "    print(*d2)\n",
    "    t=t-1"
   ]
  },
  {
   "cell_type": "code",
   "execution_count": null,
   "metadata": {},
   "outputs": [],
   "source": []
  }
 ],
 "metadata": {
  "kernelspec": {
   "display_name": "Python 3",
   "language": "python",
   "name": "python3"
  },
  "language_info": {
   "codemirror_mode": {
    "name": "ipython",
    "version": 3
   },
   "file_extension": ".py",
   "mimetype": "text/x-python",
   "name": "python",
   "nbconvert_exporter": "python",
   "pygments_lexer": "ipython3",
   "version": "3.8.5"
  }
 },
 "nbformat": 4,
 "nbformat_minor": 4
}
